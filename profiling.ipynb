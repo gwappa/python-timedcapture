{
 "cells": [
  {
   "cell_type": "code",
   "execution_count": 1,
   "metadata": {},
   "outputs": [],
   "source": [
    "from pathlib import Path\n",
    "import numpy as np\n",
    "import matplotlib.pyplot as plt\n",
    "from matplotlib.gridspec import GridSpec\n",
    "import pandas as pd"
   ]
  },
  {
   "cell_type": "code",
   "execution_count": 2,
   "metadata": {},
   "outputs": [],
   "source": [
    "file_buffered = Path(\"local/latency_buffered.csv\")\n",
    "file_unbuffered = Path(\"local/latency_unbuffered.csv\")\n",
    "figdir = Path(\"images\")\n",
    "\n",
    "buffered = pd.read_csv(str(file_buffered))\n",
    "unbuffered = pd.read_csv(str(file_buffered))"
   ]
  },
  {
   "cell_type": "code",
   "execution_count": 3,
   "metadata": {},
   "outputs": [
    {
     "data": {
      "text/plain": [
       "1536.0"
      ]
     },
     "execution_count": 3,
     "metadata": {},
     "output_type": "execute_result"
    }
   ],
   "source": [
    "# calculate the min latency to transfer 16-bit image sized 640 x 480 pixels at 400 MB/s\n",
    "# 400 MB/s = 400 bytes/us\n",
    "\n",
    "min_lat_us = 640 * 480 * 2 / 400\n",
    "min_lat_us"
   ]
  },
  {
   "cell_type": "code",
   "execution_count": 4,
   "metadata": {},
   "outputs": [
    {
     "data": {
      "image/png": "[encoded data removed]",
      "text/plain": [
       "<Figure size 432x288 with 1 Axes>"
      ]
     },
     "metadata": {
      "needs_background": "light"
     },
     "output_type": "display_data"
    }
   ],
   "source": [
    "plt.figure()\n",
    "for value, group in unbuffered.groupby([\"exposure\"]):\n",
    "    exp = np.array(group.exposure)/1000\n",
    "    lat = np.array(group.latency)*1000\n",
    "    plt.plot(exp, lat, \"k.\", ms=1, alpha=0.03)\n",
    "plt.plot(buffered.exposure/1000, buffered.exposure/1000, \"--\", lw=0.5, color=\"gray\")\n",
    "plt.hlines(min_lat_us/1000, buffered.exposure.min()/1000, buffered.exposure.max()/1000,\n",
    "           linewidth=0.5, linestyle=\"--\", color='crimson')\n",
    "plt.hlines(min_lat_us*2/1000, buffered.exposure.min()/1000, buffered.exposure.max()/1000,\n",
    "           linewidth=0.5, linestyle=\"--\", color='brown')\n",
    "plt.xlim(0, 4)\n",
    "plt.ylim(0, 4)\n",
    "plt.show()"
   ]
  },
  {
   "cell_type": "code",
   "execution_count": 5,
   "metadata": {},
   "outputs": [
    {
     "name": "stdout",
     "output_type": "stream",
     "text": [
      "exposure=0.010 ms: 0 frames were >3 ms\n",
      "exposure=0.050 ms: 0 frames were >3 ms\n",
      "exposure=0.100 ms: 0 frames were >3 ms\n",
      "exposure=0.200 ms: 0 frames were >3 ms\n",
      "exposure=0.300 ms: 0 frames were >3 ms\n",
      "exposure=0.400 ms: 0 frames were >3 ms\n",
      "exposure=0.500 ms: 0 frames were >3 ms\n",
      "exposure=0.600 ms: 0 frames were >3 ms\n",
      "exposure=0.700 ms: 0 frames were >3 ms\n",
      "exposure=0.800 ms: 0 frames were >3 ms\n",
      "exposure=0.900 ms: 0 frames were >3 ms\n",
      "exposure=1.000 ms: 0 frames were >3 ms\n",
      "exposure=1.200 ms: 0 frames were >3 ms\n",
      "exposure=1.400 ms: 0 frames were >3 ms\n",
      "exposure=1.600 ms: 0 frames were >3 ms\n",
      "exposure=1.800 ms: 0 frames were >3 ms\n",
      "exposure=2.000 ms: 0 frames were >3 ms\n",
      "exposure=2.200 ms: 0 frames were >3 ms\n",
      "exposure=2.400 ms: 0 frames were >3 ms\n",
      "exposure=2.600 ms: 0 frames were >3 ms\n",
      "exposure=2.800 ms: 0 frames were >3 ms\n",
      "exposure=3.000 ms: 0 frames were >3 ms\n",
      "exposure=3.200 ms: 1 frames were >3 ms\n",
      "exposure=3.400 ms: 0 frames were >3 ms\n",
      "exposure=3.600 ms: 1 frames were >3 ms\n",
      "exposure=3.800 ms: 0 frames were >3 ms\n",
      "exposure=4.000 ms: 0 frames were >3 ms\n"
     ]
    },
    {
     "data": {
      "image/png": "[encoded data removed]",
      "text/plain": [
       "<Figure size 144x144 with 1 Axes>"
      ]
     },
     "metadata": {
      "needs_background": "light"
     },
     "output_type": "display_data"
    }
   ],
   "source": [
    "vmin = 0.0\n",
    "vmax = 4.8\n",
    "plt.figure(figsize=(2, 2))\n",
    "for value, group in buffered.groupby([\"exposure\"]):\n",
    "    exp = (value/1000, )\n",
    "    lat = np.array(group.latency)[1:]*1000\n",
    "    print(f\"exposure={exp[0]:.3f} ms: {np.count_nonzero(lat>5)} frames were >3 ms\")\n",
    "    plt.errorbar(exp, (np.mean(lat),), yerr=np.std(lat, ddof=1),\n",
    "                fmt=\"ko\", ms=3.5, alpha=0.8)\n",
    "plt.plot(buffered.exposure/1000, buffered.exposure/1000, \"k--\", lw=1)\n",
    "plt.hlines(min_lat_us/1000, vmin, vmax,\n",
    "           linewidth=1, linestyle=\"-\", color='green', alpha=0.7)\n",
    "plt.vlines(min_lat_us/1000, vmin, vmax,\n",
    "           linewidth=1, linestyle=\"-\", color='green', alpha=0.7)\n",
    "plt.xlim(0, 4.4)\n",
    "plt.ylim(0, 4.8)\n",
    "plt.xticks((0, 1, 2, 3, 4))\n",
    "plt.yticks((0, 1, 2, 3, 4))\n",
    "plt.gca().set_aspect(1.0)\n",
    "for side in (\"top\", \"right\"):\n",
    "    plt.gca().spines[side].set_visible(False)\n",
    "plt.tick_params(labelsize=12)\n",
    "plt.xlabel(\"exposure ms\", fontsize=12)\n",
    "plt.ylabel(\"latency ms\", fontsize=12)\n",
    "plt.show()"
   ]
  },
  {
   "cell_type": "code",
   "execution_count": 6,
   "metadata": {},
   "outputs": [],
   "source": [
    "exposure_ms = []\n",
    "latency_ms  = []\n",
    "vrange = (0, 5) # 0 ms to 5 ms\n",
    "nbins  = 50 # 100 us bin\n",
    "for value, group in unbuffered.groupby([\"exposure\"]):\n",
    "    H, edges = np.histogram(np.array(group.latency)*1000, bins=nbins, range=vrange, density=False)\n",
    "    exposure_ms.append(value/1000)\n",
    "    latency_ms.append(H/(group.shape[0]))\n",
    "exposure_ms = np.array(exposure_ms)\n",
    "exp_edges   = np.concatenate(((0,), (exposure_ms[1:] + exposure_ms[:-1])/2, (vrange[1],)))\n",
    "latency_ms  = np.stack(latency_ms, axis=-1)"
   ]
  },
  {
   "cell_type": "code",
   "execution_count": 7,
   "metadata": {},
   "outputs": [
    {
     "data": {
      "image/png": "[encoded data removed]",
      "text/plain": [
       "<Figure size 180x158.4 with 2 Axes>"
      ]
     },
     "metadata": {
      "needs_background": "light"
     },
     "output_type": "display_data"
    }
   ],
   "source": [
    "vmin = 0.0\n",
    "vmax = 4.8\n",
    "fig = plt.figure(figsize=(2.5, 2.2))\n",
    "grid = GridSpec(1,22)\n",
    "ax_plot = fig.add_subplot(grid[:,:20])\n",
    "ax_bar  = fig.add_subplot(grid[:,20:])\n",
    "for i in range(latency_ms.shape[1]):\n",
    "    img = ax_plot.imshow(latency_ms[:,i].reshape((-1,1)), vmin=0.0, vmax=1,\n",
    "               origin=\"lower\", cmap=plt.get_cmap(\"viridis\"),\n",
    "               extent=(exp_edges[i], exp_edges[i+1], vrange[0], vrange[1]))\n",
    "ax_plot.plot(buffered.exposure/1000, buffered.exposure/1000, \"-\", color=\"w\", lw=0.3, alpha=1)\n",
    "ax_plot.hlines(min_lat_us/1000, vmin, vmax,\n",
    "           linewidth=1, linestyle=\"--\", color='w', alpha=1)\n",
    "ax_plot.vlines(min_lat_us/1000, vmin, vmax,\n",
    "           linewidth=1, linestyle=\"--\", color='w', alpha=1)\n",
    "ax_plot.set_xlim(0, 4.1)\n",
    "ax_plot.set_ylim(0, vmax)\n",
    "ax_plot.set_xticks((0, 1, 2, 3, 4))\n",
    "ax_plot.set_yticks((0, 1, 2, 3, 4))\n",
    "ax_plot.set_aspect(1.0)\n",
    "cb = fig.colorbar(img, cax=ax_bar)\n",
    "cb.set_ticks((0, 0.5, 1.0))\n",
    "for side in (\"top\", \"right\"):\n",
    "    ax_plot.spines[side].set_visible(False)\n",
    "for ax in (ax_plot, ax_bar):\n",
    "    ax.tick_params(labelsize=12)\n",
    "ax_plot.set_xlabel(\"exposure (ms)\", fontsize=12)\n",
    "ax_plot.set_ylabel(\"latency (ms)\", fontsize=12)\n",
    "cb.set_label(\"fraction\", fontsize=12)\n",
    "plt.subplots_adjust(bottom=0.3, left=0.2, right=0.7, wspace=1)\n",
    "\n",
    "outpath = figdir / \"latency_ImagingSource-DMK37BUX287_Corei7-9700K\"\n",
    "if not outpath.parent.exists():\n",
    "    outpath.parent.mkdir(parents=True)\n",
    "fig.savefig(str(outpath.with_suffix(\".png\")), dpi=400)\n",
    "fig.savefig(str(outpath.with_suffix(\".svg\")))\n",
    "plt.show()"
   ]
  },
  {
   "cell_type": "code",
   "execution_count": null,
   "metadata": {},
   "outputs": [],
   "source": []
  }
 ],
 "metadata": {
  "kernelspec": {
   "display_name": "Python [conda env:dlc2.1] *",
   "language": "python",
   "name": "conda-env-dlc2.1-py"
  },
  "language_info": {
   "codemirror_mode": {
    "name": "ipython",
    "version": 3
   },
   "file_extension": ".py",
   "mimetype": "text/x-python",
   "name": "python",
   "nbconvert_exporter": "python",
   "pygments_lexer": "ipython3",
   "version": "3.7.7"
  }
 },
 "nbformat": 4,
 "nbformat_minor": 4
}
